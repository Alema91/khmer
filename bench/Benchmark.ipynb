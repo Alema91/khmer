{
 "cells": [
  {
   "cell_type": "code",
   "execution_count": 8,
   "metadata": {
    "collapsed": true
   },
   "outputs": [],
   "source": [
    "%matplotlib inline\n",
    "\n",
    "import seaborn as sns"
   ]
  },
  {
   "cell_type": "code",
   "execution_count": 26,
   "metadata": {
    "collapsed": false
   },
   "outputs": [
    {
     "name": "stdout",
     "output_type": "stream",
     "text": [
      "import pandas as pd\r\n",
      "import sarparse\r\n",
      "\r\n",
      "def runtime(df):\r\n",
      "    return df.iloc[-1]['time'] - df.iloc[0]['time']\r\n",
      "\r\n",
      "df_nosh = pd.DataFrame(sarparse.parse_pidstat(\"output_nosh.pidstat.gz\"))\r\n",
      "df_nosh['time'] = pd.to_datetime(df_nosh['time'])\r\n",
      "df_nosh.set_index(\"time\")\r\n",
      "\r\n",
      "df_sh = pd.DataFrame(sarparse.parse_pidstat(\"output_sh.pidstat.gz\"))\r\n",
      "df_sh['time'] = pd.to_datetime(df_sh['time'])\r\n",
      "df_sh.set_index(\"time\")\r\n"
     ]
    }
   ],
   "source": [
    "%run stats.py\n",
    "!cat stats.py"
   ]
  },
  {
   "cell_type": "code",
   "execution_count": 3,
   "metadata": {
    "collapsed": false
   },
   "outputs": [
    {
     "data": {
      "text/html": [
       "<div>\n",
       "<table border=\"1\" class=\"dataframe\">\n",
       "  <thead>\n",
       "    <tr style=\"text-align: right;\">\n",
       "      <th></th>\n",
       "      <th>time</th>\n",
       "      <th>UID</th>\n",
       "      <th>PID</th>\n",
       "      <th>minflt_s</th>\n",
       "      <th>majflt_s</th>\n",
       "      <th>VSZ</th>\n",
       "      <th>RSS</th>\n",
       "      <th>Percent_MEM</th>\n",
       "      <th>Command</th>\n",
       "    </tr>\n",
       "  </thead>\n",
       "  <tbody>\n",
       "    <tr>\n",
       "      <th>0</th>\n",
       "      <td>2016-05-15 00:08:08</td>\n",
       "      <td>1001</td>\n",
       "      <td>24757</td>\n",
       "      <td>4695.0</td>\n",
       "      <td>0.0</td>\n",
       "      <td>2971812.0</td>\n",
       "      <td>2719988.0</td>\n",
       "      <td>4.40</td>\n",
       "      <td>python</td>\n",
       "    </tr>\n",
       "    <tr>\n",
       "      <th>1</th>\n",
       "      <td>2016-05-15 00:08:09</td>\n",
       "      <td>1001</td>\n",
       "      <td>24757</td>\n",
       "      <td>1461.0</td>\n",
       "      <td>0.0</td>\n",
       "      <td>3948436.0</td>\n",
       "      <td>3915212.0</td>\n",
       "      <td>6.33</td>\n",
       "      <td>python</td>\n",
       "    </tr>\n",
       "    <tr>\n",
       "      <th>2</th>\n",
       "      <td>2016-05-15 00:08:10</td>\n",
       "      <td>1001</td>\n",
       "      <td>24757</td>\n",
       "      <td>25.0</td>\n",
       "      <td>0.0</td>\n",
       "      <td>3948436.0</td>\n",
       "      <td>3915212.0</td>\n",
       "      <td>6.33</td>\n",
       "      <td>python</td>\n",
       "    </tr>\n",
       "    <tr>\n",
       "      <th>3</th>\n",
       "      <td>2016-05-15 00:08:11</td>\n",
       "      <td>1001</td>\n",
       "      <td>24757</td>\n",
       "      <td>10.0</td>\n",
       "      <td>0.0</td>\n",
       "      <td>3948436.0</td>\n",
       "      <td>3915212.0</td>\n",
       "      <td>6.33</td>\n",
       "      <td>python</td>\n",
       "    </tr>\n",
       "    <tr>\n",
       "      <th>4</th>\n",
       "      <td>2016-05-15 00:08:12</td>\n",
       "      <td>1001</td>\n",
       "      <td>24757</td>\n",
       "      <td>5.0</td>\n",
       "      <td>0.0</td>\n",
       "      <td>3948436.0</td>\n",
       "      <td>3915212.0</td>\n",
       "      <td>6.33</td>\n",
       "      <td>python</td>\n",
       "    </tr>\n",
       "  </tbody>\n",
       "</table>\n",
       "</div>"
      ],
      "text/plain": [
       "                 time   UID    PID  minflt_s  majflt_s        VSZ        RSS  \\\n",
       "0 2016-05-15 00:08:08  1001  24757    4695.0       0.0  2971812.0  2719988.0   \n",
       "1 2016-05-15 00:08:09  1001  24757    1461.0       0.0  3948436.0  3915212.0   \n",
       "2 2016-05-15 00:08:10  1001  24757      25.0       0.0  3948436.0  3915212.0   \n",
       "3 2016-05-15 00:08:11  1001  24757      10.0       0.0  3948436.0  3915212.0   \n",
       "4 2016-05-15 00:08:12  1001  24757       5.0       0.0  3948436.0  3915212.0   \n",
       "\n",
       "   Percent_MEM Command  \n",
       "0         4.40  python  \n",
       "1         6.33  python  \n",
       "2         6.33  python  \n",
       "3         6.33  python  \n",
       "4         6.33  python  "
      ]
     },
     "execution_count": 3,
     "metadata": {},
     "output_type": "execute_result"
    }
   ],
   "source": [
    "df_nosh.head()"
   ]
  },
  {
   "cell_type": "code",
   "execution_count": 4,
   "metadata": {
    "collapsed": false
   },
   "outputs": [
    {
     "data": {
      "text/html": [
       "<div>\n",
       "<table border=\"1\" class=\"dataframe\">\n",
       "  <thead>\n",
       "    <tr style=\"text-align: right;\">\n",
       "      <th></th>\n",
       "      <th>time</th>\n",
       "      <th>UID</th>\n",
       "      <th>PID</th>\n",
       "      <th>minflt_s</th>\n",
       "      <th>majflt_s</th>\n",
       "      <th>VSZ</th>\n",
       "      <th>RSS</th>\n",
       "      <th>Percent_MEM</th>\n",
       "      <th>Command</th>\n",
       "    </tr>\n",
       "  </thead>\n",
       "  <tbody>\n",
       "    <tr>\n",
       "      <th>0</th>\n",
       "      <td>2016-05-15 21:13:37</td>\n",
       "      <td>1001</td>\n",
       "      <td>12511</td>\n",
       "      <td>2339.0</td>\n",
       "      <td>50.0</td>\n",
       "      <td>42136.0</td>\n",
       "      <td>8488.0</td>\n",
       "      <td>0.01</td>\n",
       "      <td>python</td>\n",
       "    </tr>\n",
       "    <tr>\n",
       "      <th>1</th>\n",
       "      <td>2016-05-15 21:13:38</td>\n",
       "      <td>1001</td>\n",
       "      <td>12511</td>\n",
       "      <td>0.0</td>\n",
       "      <td>0.0</td>\n",
       "      <td>42136.0</td>\n",
       "      <td>8488.0</td>\n",
       "      <td>0.01</td>\n",
       "      <td>python</td>\n",
       "    </tr>\n",
       "    <tr>\n",
       "      <th>2</th>\n",
       "      <td>2016-05-15 21:13:39</td>\n",
       "      <td>1001</td>\n",
       "      <td>12511</td>\n",
       "      <td>65375.0</td>\n",
       "      <td>2.0</td>\n",
       "      <td>367660.0</td>\n",
       "      <td>267848.0</td>\n",
       "      <td>0.43</td>\n",
       "      <td>python</td>\n",
       "    </tr>\n",
       "    <tr>\n",
       "      <th>3</th>\n",
       "      <td>2016-05-15 21:13:40</td>\n",
       "      <td>1001</td>\n",
       "      <td>12511</td>\n",
       "      <td>32903.0</td>\n",
       "      <td>0.0</td>\n",
       "      <td>693184.0</td>\n",
       "      <td>450136.0</td>\n",
       "      <td>0.73</td>\n",
       "      <td>python</td>\n",
       "    </tr>\n",
       "    <tr>\n",
       "      <th>4</th>\n",
       "      <td>2016-05-15 21:13:41</td>\n",
       "      <td>1001</td>\n",
       "      <td>12511</td>\n",
       "      <td>24165.0</td>\n",
       "      <td>0.0</td>\n",
       "      <td>1018708.0</td>\n",
       "      <td>916756.0</td>\n",
       "      <td>1.48</td>\n",
       "      <td>python</td>\n",
       "    </tr>\n",
       "  </tbody>\n",
       "</table>\n",
       "</div>"
      ],
      "text/plain": [
       "                 time   UID    PID  minflt_s  majflt_s        VSZ       RSS  \\\n",
       "0 2016-05-15 21:13:37  1001  12511    2339.0      50.0    42136.0    8488.0   \n",
       "1 2016-05-15 21:13:38  1001  12511       0.0       0.0    42136.0    8488.0   \n",
       "2 2016-05-15 21:13:39  1001  12511   65375.0       2.0   367660.0  267848.0   \n",
       "3 2016-05-15 21:13:40  1001  12511   32903.0       0.0   693184.0  450136.0   \n",
       "4 2016-05-15 21:13:41  1001  12511   24165.0       0.0  1018708.0  916756.0   \n",
       "\n",
       "   Percent_MEM Command  \n",
       "0         0.01  python  \n",
       "1         0.01  python  \n",
       "2         0.43  python  \n",
       "3         0.73  python  \n",
       "4         1.48  python  "
      ]
     },
     "execution_count": 4,
     "metadata": {},
     "output_type": "execute_result"
    }
   ],
   "source": [
    "df_sh.head()"
   ]
  },
  {
   "cell_type": "code",
   "execution_count": 5,
   "metadata": {
    "collapsed": false
   },
   "outputs": [
    {
     "data": {
      "text/plain": [
       "Timedelta('0 days 00:23:00')"
      ]
     },
     "execution_count": 5,
     "metadata": {},
     "output_type": "execute_result"
    }
   ],
   "source": [
    "runtime(df_nosh)"
   ]
  },
  {
   "cell_type": "code",
   "execution_count": 6,
   "metadata": {
    "collapsed": false
   },
   "outputs": [
    {
     "data": {
      "text/plain": [
       "Timedelta('0 days 01:21:02')"
      ]
     },
     "execution_count": 6,
     "metadata": {},
     "output_type": "execute_result"
    }
   ],
   "source": [
    "runtime(df_sh)"
   ]
  },
  {
   "cell_type": "code",
   "execution_count": 25,
   "metadata": {
    "collapsed": false
   },
   "outputs": [
    {
     "data": {
      "text/plain": [
       "<matplotlib.legend.Legend at 0x7f69615458d0>"
      ]
     },
     "execution_count": 25,
     "metadata": {},
     "output_type": "execute_result"
    },
    {
     "data": {
      "image/png": "[encoded data removed]",
      "text/plain": [
       "<matplotlib.figure.Figure at 0x7f696149d2e8>"
      ]
     },
     "metadata": {},
     "output_type": "display_data"
    }
   ],
   "source": [
    "sns.plt.plot(df_nosh['RSS'], label=\"Current\")\n",
    "sns.plt.plot(df_sh['RSS'], label=\"Sparsetable\")\n",
    "sns.plt.xlabel(\"Time (s)\")\n",
    "sns.plt.ylabel(\"RSS (bytes)\")\n",
    "sns.plt.legend(loc=\"best\")"
   ]
  }
 ],
 "metadata": {
  "kernelspec": {
   "display_name": "Python 3",
   "language": "python",
   "name": "python3"
  },
  "language_info": {
   "codemirror_mode": {
    "name": "ipython",
    "version": 3
   },
   "file_extension": ".py",
   "mimetype": "text/x-python",
   "name": "python",
   "nbconvert_exporter": "python",
   "pygments_lexer": "ipython3",
   "version": "3.5.1"
  }
 },
 "nbformat": 4,
 "nbformat_minor": 0
}
